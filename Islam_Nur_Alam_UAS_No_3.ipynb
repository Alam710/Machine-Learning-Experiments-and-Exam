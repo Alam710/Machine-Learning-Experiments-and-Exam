{
  "nbformat": 4,
  "nbformat_minor": 0,
  "metadata": {
    "colab": {
      "name": "Islam Nur Alam UAS No_3.ipynb",
      "provenance": [],
      "mount_file_id": "1pLCWTlOvF77sTFoGAShD9X6Tvjox54St",
      "authorship_tag": "ABX9TyNOoNeuyTAGLl6iwtnP20gl",
      "include_colab_link": true
    },
    "kernelspec": {
      "name": "python3",
      "display_name": "Python 3"
    },
    "language_info": {
      "name": "python"
    },
    "accelerator": "GPU"
  },
  "cells": [
    {
      "cell_type": "markdown",
      "metadata": {
        "id": "view-in-github",
        "colab_type": "text"
      },
      "source": [
        "<a href=\"https://colab.research.google.com/github/Alam710/Python_Basic_and_exam_machine_learning_MTI/blob/master/Islam_Nur_Alam_UAS_No_3.ipynb\" target=\"_parent\"><img src=\"https://colab.research.google.com/assets/colab-badge.svg\" alt=\"Open In Colab\"/></a>"
      ]
    },
    {
      "cell_type": "code",
      "execution_count": null,
      "metadata": {
        "id": "rF6YgdYOkiJQ"
      },
      "outputs": [],
      "source": [
        "import numpy as np\n",
        "from sklearn.mixture import GaussianMixture\n",
        "%matplotlib inline\n",
        "import matplotlib.pyplot as plt\n",
        "import seaborn as sns; sns.set()\n",
        "import numpy as np\n",
        "import warnings\n",
        "warnings.filterwarnings(\"ignore\")"
      ]
    },
    {
      "cell_type": "code",
      "source": [
        "with open(\"/content/drive/MyDrive/UAS_ML/nomor_3.csv\") as f:\n",
        "  ncols = len(f.readline().split(','))\n",
        "X = np.genfromtxt('/content/drive/MyDrive/UAS_ML/nomor_3.csv', dtype=float, delimiter=',', skip_header=1, usecols=range(1,3))\n",
        "print(X)"
      ],
      "metadata": {
        "colab": {
          "base_uri": "https://localhost:8080/"
        },
        "id": "QZW3zXMvx6Lz",
        "outputId": "0b2225bd-830e-4696-e6dc-7d97fdae32bc"
      },
      "execution_count": null,
      "outputs": [
        {
          "output_type": "stream",
          "name": "stdout",
          "text": [
            "[[2.25 3.47]\n",
            " [4.71 3.6 ]\n",
            " [3.17 4.96]\n",
            " [2.32 1.63]\n",
            " [2.31 2.09]\n",
            " [1.14 2.11]\n",
            " [1.9  0.97]\n",
            " [1.76 0.84]\n",
            " [5.02 3.02]\n",
            " [5.74 3.84]]\n"
          ]
        }
      ]
    },
    {
      "cell_type": "code",
      "source": [
        "X.shape"
      ],
      "metadata": {
        "colab": {
          "base_uri": "https://localhost:8080/"
        },
        "id": "INFvoOcUzsbN",
        "outputId": "8cead44b-519d-4957-9257-c44cf922b2da"
      },
      "execution_count": null,
      "outputs": [
        {
          "output_type": "execute_result",
          "data": {
            "text/plain": [
              "(10, 2)"
            ]
          },
          "metadata": {},
          "execution_count": 3
        }
      ]
    },
    {
      "cell_type": "code",
      "source": [
        "from sklearn import mixture\n",
        "vectorizer = np.vectorize(lambda x: X[x % len(X)])\n",
        "gmm = mixture.GaussianMixture(n_components=2).fit(X)\n",
        "labels = gmm.predict(X)\n",
        "plt.title(\"Distribusi Data\", fontsize=16)\n",
        "plt.scatter(X[:,0], X[:,1], c=labels, s=40, cmap='viridis');"
      ],
      "metadata": {
        "colab": {
          "base_uri": "https://localhost:8080/",
          "height": 286
        },
        "id": "0-Ez7G-U9al_",
        "outputId": "524b8d1d-d379-4b40-dfe1-8e565d7bb275"
      },
      "execution_count": null,
      "outputs": [
        {
          "output_type": "display_data",
          "data": {
            "image/png": "[encoded data removed]",
            "text/plain": [
              "<Figure size 432x288 with 1 Axes>"
            ]
          },
          "metadata": {
            "needs_background": "light"
          }
        }
      ]
    },
    {
      "cell_type": "code",
      "source": [
        "from matplotlib.patches import Ellipse\n",
        "def draw_ellipse(position, covariance, ax=None, **kwargs):\n",
        "    ax = ax or plt.gca()\n",
        "    # Convert covariance to principal axes\n",
        "    if covariance.shape == (2, 2):\n",
        "        U, s, Vt = np.linalg.svd(covariance)\n",
        "        angle = np.degrees(np.arctan2(U[1, 0], U[0, 0]))\n",
        "        width, height = 2 * np.sqrt(s)\n",
        "    else:\n",
        "        angle = 0\n",
        "        width, height = 2 * np.sqrt(covariance)\n",
        "    # Draw the Ellipse\n",
        "    for nsig in range(1, 4):\n",
        "        ax.add_patch(Ellipse(position, nsig * width, nsig * height,\n",
        "                             angle, **kwargs))  \n",
        "def plot_gmm(gmm, X, label=True, ax=None):\n",
        "    ax = ax or plt.gca()\n",
        "    labels = gmm.fit(X).predict(X)\n",
        "    if label:\n",
        "        ax.scatter(X[:,0], X[:,1], c=labels, s=40, cmap='viridis', zorder=2)\n",
        "    else:\n",
        "        ax.scatter(X[:,0], X[:,1], s=40, zorder=2)\n",
        "    ax.axis('equal')\n",
        "    w_factor = 0.2 / gmm.weights_.max()\n",
        "    for pos, covar, w in zip(gmm.means_, gmm.covariances_, gmm.weights_):\n",
        "        draw_ellipse(pos, covar, alpha=w * w_factor)"
      ],
      "metadata": {
        "id": "512CtBkzymBs"
      },
      "execution_count": null,
      "outputs": []
    },
    {
      "cell_type": "code",
      "source": [
        "gmm = mixture.GaussianMixture(n_components=2, random_state=42)\n",
        "plt.title(\"Ground Truth\", fontsize=16)\n",
        "plot_gmm(gmm, X)"
      ],
      "metadata": {
        "id": "wmIAoCmh0KtA",
        "colab": {
          "base_uri": "https://localhost:8080/",
          "height": 286
        },
        "outputId": "c0739cba-1675-4db4-c647-13ce74821df8"
      },
      "execution_count": null,
      "outputs": [
        {
          "output_type": "display_data",
          "data": {
            "image/png": "[encoded data removed]",
            "text/plain": [
              "<Figure size 432x288 with 1 Axes>"
            ]
          },
          "metadata": {
            "needs_background": "light"
          }
        }
      ]
    },
    {
      "cell_type": "code",
      "source": [
        "print(\"Converged: \", gmm.converged_)\n",
        "print(\"\\n\")\n",
        "print(gmm.means_)\n",
        "print('\\n')\n",
        "print(gmm.covariances_)\n",
        "print('\\n')"
      ],
      "metadata": {
        "colab": {
          "base_uri": "https://localhost:8080/"
        },
        "id": "cCg1wGmU2aKc",
        "outputId": "ab389d69-6b55-47aa-d3c7-8d1b9bcd8f56"
      },
      "execution_count": null,
      "outputs": [
        {
          "output_type": "stream",
          "name": "stdout",
          "text": [
            "Converged:  True\n",
            "\n",
            "\n",
            "[[1.88724926 1.53502109]\n",
            " [4.18433765 3.77838838]]\n",
            "\n",
            "\n",
            "[[[ 0.18791365 -0.01192258]\n",
            "  [-0.01192258  0.30290925]]\n",
            "\n",
            " [[ 1.62635252 -0.24822827]\n",
            "  [-0.24822827  0.42276968]]]\n",
            "\n",
            "\n"
          ]
        }
      ]
    },
    {
      "cell_type": "code",
      "source": [
        "probs = gmm.predict(X)\n",
        "print(probs[:11])"
      ],
      "metadata": {
        "colab": {
          "base_uri": "https://localhost:8080/"
        },
        "id": "BAYG461G7Fq2",
        "outputId": "74145856-b99c-475b-c0c0-b331b1c42370"
      },
      "execution_count": null,
      "outputs": [
        {
          "output_type": "stream",
          "name": "stdout",
          "text": [
            "[1 1 1 0 0 0 0 0 1 1]\n"
          ]
        }
      ]
    },
    {
      "cell_type": "code",
      "source": [
        ""
      ],
      "metadata": {
        "id": "huts5IXD1SSM"
      },
      "execution_count": null,
      "outputs": []
    },
    {
      "cell_type": "code",
      "source": [
        ""
      ],
      "metadata": {
        "id": "-BBeYvgL1SZb"
      },
      "execution_count": null,
      "outputs": []
    }
  ]
}